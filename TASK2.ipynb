{
  "cells": [
    {
      "cell_type": "code",
      "execution_count": null,
      "metadata": {
        "colab": {
          "base_uri": "https://localhost:8080/"
        },
        "id": "qv-x4aG4jTj2",
        "outputId": "797e9f72-a2c3-4be4-8604-de57ba306d18"
      },
      "outputs": [],
      "source": [
        "def calculator():\n",
        "    # Prompt user to input the first number\n",
        "    num1 = float(input(\"Enter the first number: \"))\n",
        "    # Prompt user to input the second number\n",
        "    num2 = float(input(\"Enter the second number: \"))\n",
        "    # Prompt user to choose an operation\n",
        "    print(\"Select operation:\")\n",
        "    print(\"1. Add\")\n",
        "    print(\"2. Subtract\")\n",
        "    print(\"3. Multiply\")\n",
        "    print(\"4. Divide\")\n",
        "    operation = input(\"Enter choice (1/2/3/4): \")\n",
        "    # Perform the calculation based on user input\n",
        "    if operation == '1':\n",
        "        result = num1 + num2\n",
        "        print(f\"The result of addition is: {result}\")\n",
        "    elif operation == '2':\n",
        "        result = num1 - num2\n",
        "        print(f\"The result of subtraction is: {result}\")\n",
        "    elif operation == '3':\n",
        "        result = num1 * num2\n",
        "        print(f\"The result of multiplication is: {result}\")\n",
        "    elif operation == '4':\n",
        "        if num2 != 0:\n",
        "            result = num1 / num2\n",
        "            print(f\"The result of division is: {result}\")\n",
        "        else:\n",
        "            print(\"Error: Division by zero is not allowed.\")\n",
        "    else:\n",
        "        print(\"Invalid input! Please select a valid operation.\")\n",
        "\n",
        "# Run the calculator\n",
        "calculator()"
      ]
    }
  ],
  "metadata": {
    "colab": {
      "provenance": []
    },
    "kernelspec": {
      "display_name": "Python 3",
      "name": "python3"
    },
    "language_info": {
      "name": "python"
    }
  },
  "nbformat": 4,
  "nbformat_minor": 0
}
